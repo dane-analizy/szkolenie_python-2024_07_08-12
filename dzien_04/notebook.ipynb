{
 "cells": [
  {
   "cell_type": "code",
   "execution_count": 6,
   "metadata": {},
   "outputs": [],
   "source": [
    "import sqlalchemy as sa\n",
    "from sqlalchemy import text\n",
    "from utils.config import get_config\n",
    "from utils.db import generate_connection_string\n"
   ]
  },
  {
   "cell_type": "code",
   "execution_count": 7,
   "metadata": {},
   "outputs": [],
   "source": [
    "config = get_config(\"db_config_lukasz.yaml\")\n",
    "conn_str = generate_connection_string(config, db_type=\"postgresql\")\n"
   ]
  },
  {
   "cell_type": "code",
   "execution_count": null,
   "metadata": {},
   "outputs": [],
   "source": [
    "\n",
    "# print(conn_str)\n",
    "\n",
    "# przygotowanie silnika bazodanowego\n",
    "db_engine = sa.engine.create_engine(conn_str)\n",
    "\n",
    "# podłączenie do bazy poprzez nasz silnik\n",
    "db_connection = db_engine.connect()\n",
    "\n",
    "sql_query = \"\"\"\n",
    "SELECT\n",
    "    first_name,\n",
    "    last_name,\n",
    "    weight / (height * height) AS bmi,\n",
    "    player_id\n",
    "FROM\n",
    "    players\n",
    ";\n",
    "\"\"\"\n",
    "# wywołanie zapytania SQL\n",
    "db_results = db_connection.execute(text(sql_query))\n",
    "\n",
    "# nazwy kolumn z zapytania SQL\n",
    "db_results_columns = list(db_results.keys())\n",
    "# print(db_results_columns)\n",
    "\n",
    "# wiersze z zapytania SQL\n",
    "list_of_results = [\n",
    "    {col[0]: col[1] for col in zip(db_results_columns, row)} for row in db_results\n",
    "]\n",
    "print(list_of_results)\n",
    "\n",
    "# rozłączenie od bazy\n",
    "db_connection.close()\n"
   ]
  }
 ],
 "metadata": {
  "kernelspec": {
   "display_name": ".venv",
   "language": "python",
   "name": "python3"
  },
  "language_info": {
   "codemirror_mode": {
    "name": "ipython",
    "version": 3
   },
   "file_extension": ".py",
   "mimetype": "text/x-python",
   "name": "python",
   "nbconvert_exporter": "python",
   "pygments_lexer": "ipython3",
   "version": "3.10.7"
  }
 },
 "nbformat": 4,
 "nbformat_minor": 2
}
