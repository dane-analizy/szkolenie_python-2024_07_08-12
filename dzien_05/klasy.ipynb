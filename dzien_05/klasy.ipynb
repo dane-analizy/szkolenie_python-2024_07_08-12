{
 "cells": [
  {
   "cell_type": "code",
   "execution_count": 29,
   "metadata": {},
   "outputs": [],
   "source": [
    "# Klasy\n",
    "\n",
    "\n",
    "class Zwierze:\n",
    "    gatunek = None\n",
    "    ilosc_nog = None\n",
    "    kolor = None\n",
    "\n",
    "    def __init__(self):\n",
    "        self.gatunek = \"domyślny gatunek\"\n",
    "        self.ilosc_nog = 4\n",
    "        self.kolor = \"bezbarwny\"\n",
    "\n",
    "    def __repr__(self):\n",
    "        return f\"{self.gatunek=} {self.ilosc_nog=} {self.kolor=}\"\n",
    "\n",
    "    def daj_glos(self):\n",
    "        print(f\"Jestem {self.gatunek} i daje głos\")\n",
    "\n",
    "    def daj_kolor(self):\n",
    "        print(f\"Jestem {self.gatunek} i mam kolor {self.kolor}\")\n",
    "        \n",
    "    def liczba_nog_razy_x(self, x):\n",
    "        return self.ilosc_nog*x\n"
   ]
  },
  {
   "cell_type": "code",
   "execution_count": 20,
   "metadata": {},
   "outputs": [
    {
     "name": "stdout",
     "output_type": "stream",
     "text": [
      "self.gatunek='domyślny gatunek' self.ilosc_nog=4 self.kolor='bezbarwny'\n"
     ]
    }
   ],
   "source": [
    "zwierzak_a = Zwierze()\n",
    "\n",
    "print(zwierzak_a)\n"
   ]
  },
  {
   "cell_type": "code",
   "execution_count": 21,
   "metadata": {},
   "outputs": [
    {
     "data": {
      "text/plain": [
       "self.gatunek='domyślny gatunek' self.ilosc_nog=4 self.kolor='bezbarwny'"
      ]
     },
     "execution_count": 21,
     "metadata": {},
     "output_type": "execute_result"
    }
   ],
   "source": [
    "zwierzak_b = Zwierze()\n",
    "zwierzak_b"
   ]
  },
  {
   "cell_type": "code",
   "execution_count": 22,
   "metadata": {},
   "outputs": [],
   "source": [
    "zwierzak_a.kolor = \"rudy\"\n",
    "zwierzak_b.kolor = \"czarny\""
   ]
  },
  {
   "cell_type": "code",
   "execution_count": 23,
   "metadata": {},
   "outputs": [
    {
     "data": {
      "text/plain": [
       "self.gatunek='domyślny gatunek' self.ilosc_nog=4 self.kolor='rudy'"
      ]
     },
     "execution_count": 23,
     "metadata": {},
     "output_type": "execute_result"
    }
   ],
   "source": [
    "zwierzak_a"
   ]
  },
  {
   "cell_type": "code",
   "execution_count": 24,
   "metadata": {},
   "outputs": [
    {
     "data": {
      "text/plain": [
       "self.gatunek='domyślny gatunek' self.ilosc_nog=4 self.kolor='czarny'"
      ]
     },
     "execution_count": 24,
     "metadata": {},
     "output_type": "execute_result"
    }
   ],
   "source": [
    "zwierzak_b"
   ]
  },
  {
   "cell_type": "code",
   "execution_count": 25,
   "metadata": {},
   "outputs": [
    {
     "name": "stdout",
     "output_type": "stream",
     "text": [
      "Jestem domyślny gatunek i daje głos\n"
     ]
    }
   ],
   "source": [
    "zwierzak_a.daj_glos()"
   ]
  },
  {
   "cell_type": "code",
   "execution_count": 26,
   "metadata": {},
   "outputs": [
    {
     "name": "stdout",
     "output_type": "stream",
     "text": [
      "Jestem domyślny gatunek i daje głos\n"
     ]
    }
   ],
   "source": [
    "zwierzak_b.daj_glos()"
   ]
  },
  {
   "cell_type": "code",
   "execution_count": 27,
   "metadata": {},
   "outputs": [
    {
     "name": "stdout",
     "output_type": "stream",
     "text": [
      "Jestem domyślny gatunek i mam kolor rudy\n"
     ]
    }
   ],
   "source": [
    "zwierzak_a.daj_kolor()"
   ]
  },
  {
   "cell_type": "code",
   "execution_count": 28,
   "metadata": {},
   "outputs": [
    {
     "name": "stdout",
     "output_type": "stream",
     "text": [
      "Jestem domyślny gatunek i mam kolor czarny\n"
     ]
    }
   ],
   "source": [
    "zwierzak_b.daj_kolor()"
   ]
  },
  {
   "cell_type": "code",
   "execution_count": 30,
   "metadata": {},
   "outputs": [
    {
     "data": {
      "text/plain": [
       "40"
      ]
     },
     "execution_count": 30,
     "metadata": {},
     "output_type": "execute_result"
    }
   ],
   "source": [
    "zw_a = Zwierze()\n",
    "zw_a.liczba_nog_razy_x(10)"
   ]
  },
  {
   "cell_type": "code",
   "execution_count": 32,
   "metadata": {},
   "outputs": [],
   "source": [
    "class NoweZwierze:\n",
    "    gatunek = None\n",
    "    ilosc_nog = None\n",
    "    kolor = None\n",
    "\n",
    "    def __init__(self, gatunek, nogi=4, kolor=\"bezbarwny\"):\n",
    "        self.gatunek = gatunek\n",
    "        self.ilosc_nog = nogi\n",
    "        self.kolor = kolor\n",
    "\n",
    "    def __repr__(self):\n",
    "        return f\"{self.gatunek=} {self.ilosc_nog=} {self.kolor=}\"\n",
    "\n",
    "    def daj_glos(self):\n",
    "        print(f\"Jestem {self.gatunek} i daje głos\")\n",
    "\n",
    "    def daj_kolor(self):\n",
    "        print(f\"Jestem {self.gatunek} i mam kolor {self.kolor}\")\n",
    "\n",
    "    def liczba_nog_razy_x(self, x):\n",
    "        return self.ilosc_nog * x\n"
   ]
  },
  {
   "cell_type": "code",
   "execution_count": 33,
   "metadata": {},
   "outputs": [],
   "source": [
    "nowe_zw_a = NoweZwierze(\"pies\", nogi=4)\n",
    "nowe_zw_b = NoweZwierze(\"ptak\", 2, \"szary\")"
   ]
  },
  {
   "cell_type": "code",
   "execution_count": 34,
   "metadata": {},
   "outputs": [
    {
     "data": {
      "text/plain": [
       "self.gatunek='pies' self.ilosc_nog=4 self.kolor='bezbarwny'"
      ]
     },
     "execution_count": 34,
     "metadata": {},
     "output_type": "execute_result"
    }
   ],
   "source": [
    "nowe_zw_a"
   ]
  },
  {
   "cell_type": "code",
   "execution_count": 35,
   "metadata": {},
   "outputs": [
    {
     "data": {
      "text/plain": [
       "self.gatunek='ptak' self.ilosc_nog=2 self.kolor='szary'"
      ]
     },
     "execution_count": 35,
     "metadata": {},
     "output_type": "execute_result"
    }
   ],
   "source": [
    "nowe_zw_b"
   ]
  },
  {
   "cell_type": "code",
   "execution_count": 36,
   "metadata": {},
   "outputs": [
    {
     "name": "stdout",
     "output_type": "stream",
     "text": [
      "Jestem ptak i daje głos\n"
     ]
    }
   ],
   "source": [
    "nowe_zw_b.daj_glos()"
   ]
  },
  {
   "cell_type": "code",
   "execution_count": 50,
   "metadata": {},
   "outputs": [],
   "source": [
    "class Pies(NoweZwierze):\n",
    "    def __init__(self, kolor=\"bezbarwny\"):\n",
    "        super().__init__(gatunek=\"pies\", nogi=4, kolor=kolor)\n",
    "\n",
    "    def daj_glos(self):\n",
    "        print(f\"Jestem psem o kolorze {self.kolor} i szczekam\")\n",
    "\n",
    "\n"
   ]
  },
  {
   "cell_type": "code",
   "execution_count": 51,
   "metadata": {},
   "outputs": [
    {
     "data": {
      "text/plain": [
       "self.gatunek='pies' self.ilosc_nog=4 self.kolor='bury'"
      ]
     },
     "execution_count": 51,
     "metadata": {},
     "output_type": "execute_result"
    }
   ],
   "source": [
    "pies_a = Pies(\"bury\")\n",
    "pies_a\n"
   ]
  },
  {
   "cell_type": "code",
   "execution_count": 52,
   "metadata": {},
   "outputs": [
    {
     "data": {
      "text/plain": [
       "self.gatunek='pies' self.ilosc_nog=4 self.kolor='biały'"
      ]
     },
     "execution_count": 52,
     "metadata": {},
     "output_type": "execute_result"
    }
   ],
   "source": [
    "pies_b = Pies(\"biały\")\n",
    "pies_b\n"
   ]
  },
  {
   "cell_type": "code",
   "execution_count": 53,
   "metadata": {},
   "outputs": [
    {
     "name": "stdout",
     "output_type": "stream",
     "text": [
      "Jestem psem o kolorze bury i szczekam\n"
     ]
    }
   ],
   "source": [
    "pies_a.daj_glos()"
   ]
  },
  {
   "cell_type": "code",
   "execution_count": 54,
   "metadata": {},
   "outputs": [
    {
     "name": "stdout",
     "output_type": "stream",
     "text": [
      "Jestem pies i mam kolor biały\n"
     ]
    }
   ],
   "source": [
    "pies_b.daj_kolor()"
   ]
  },
  {
   "cell_type": "code",
   "execution_count": 55,
   "metadata": {},
   "outputs": [
    {
     "data": {
      "text/plain": [
       "8"
      ]
     },
     "execution_count": 55,
     "metadata": {},
     "output_type": "execute_result"
    }
   ],
   "source": [
    "pies_a.liczba_nog_razy_x(2)"
   ]
  },
  {
   "cell_type": "code",
   "execution_count": 56,
   "metadata": {},
   "outputs": [],
   "source": [
    "class Kot(NoweZwierze):\n",
    "    def __init__(self, kolor=\"bezbarwny\"):\n",
    "        super().__init__(gatunek=\"kot\", nogi=4, kolor=kolor)\n",
    "\n",
    "    def daj_glos(self):\n",
    "        print(f\"Jestem kotem o kolorze {self.kolor} i miauczę\")\n"
   ]
  },
  {
   "cell_type": "code",
   "execution_count": 57,
   "metadata": {},
   "outputs": [
    {
     "data": {
      "text/plain": [
       "self.gatunek='kot' self.ilosc_nog=4 self.kolor='czarny'"
      ]
     },
     "execution_count": 57,
     "metadata": {},
     "output_type": "execute_result"
    }
   ],
   "source": [
    "kot = Kot(\"czarny\")\n",
    "kot"
   ]
  },
  {
   "cell_type": "code",
   "execution_count": 58,
   "metadata": {},
   "outputs": [
    {
     "name": "stdout",
     "output_type": "stream",
     "text": [
      "Jestem kotem o kolorze czarny i miauczę\n"
     ]
    }
   ],
   "source": [
    "kot.daj_glos()"
   ]
  },
  {
   "cell_type": "code",
   "execution_count": 59,
   "metadata": {},
   "outputs": [
    {
     "data": {
      "text/plain": [
       "12"
      ]
     },
     "execution_count": 59,
     "metadata": {},
     "output_type": "execute_result"
    }
   ],
   "source": [
    "kot.liczba_nog_razy_x(3)"
   ]
  },
  {
   "cell_type": "code",
   "execution_count": null,
   "metadata": {},
   "outputs": [],
   "source": []
  }
 ],
 "metadata": {
  "kernelspec": {
   "display_name": ".venv",
   "language": "python",
   "name": "python3"
  },
  "language_info": {
   "codemirror_mode": {
    "name": "ipython",
    "version": 3
   },
   "file_extension": ".py",
   "mimetype": "text/x-python",
   "name": "python",
   "nbconvert_exporter": "python",
   "pygments_lexer": "ipython3",
   "version": "3.10.7"
  }
 },
 "nbformat": 4,
 "nbformat_minor": 2
}
