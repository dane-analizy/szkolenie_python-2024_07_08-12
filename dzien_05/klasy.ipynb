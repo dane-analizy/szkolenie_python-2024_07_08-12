{
 "cells": [
  {
   "cell_type": "code",
   "execution_count": 29,
   "metadata": {},
   "outputs": [],
   "source": [
    "# Klasy\n",
    "\n",
    "\n",
    "class Zwierze:\n",
    "    gatunek = None\n",
    "    ilosc_nog = None\n",
    "    kolor = None\n",
    "\n",
    "    def __init__(self):\n",
    "        self.gatunek = \"domyślny gatunek\"\n",
    "        self.ilosc_nog = 4\n",
    "        self.kolor = \"bezbarwny\"\n",
    "\n",
    "    def __repr__(self):\n",
    "        return f\"{self.gatunek=} {self.ilosc_nog=} {self.kolor=}\"\n",
    "\n",
    "    def daj_glos(self):\n",
    "        print(f\"Jestem {self.gatunek} i daje głos\")\n",
    "\n",
    "    def daj_kolor(self):\n",
    "        print(f\"Jestem {self.gatunek} i mam kolor {self.kolor}\")\n",
    "        \n",
    "    def liczba_nog_razy_x(self, x):\n",
    "        return self.ilosc_nog*x\n"
   ]
  },
  {
   "cell_type": "code",
   "execution_count": 20,
   "metadata": {},
   "outputs": [
    {
     "name": "stdout",
     "output_type": "stream",
     "text": [
      "self.gatunek='domyślny gatunek' self.ilosc_nog=4 self.kolor='bezbarwny'\n"
     ]
    }
   ],
   "source": [
    "zwierzak_a = Zwierze()\n",
    "\n",
    "print(zwierzak_a)\n"
   ]
  },
  {
   "cell_type": "code",
   "execution_count": 21,
   "metadata": {},
   "outputs": [
    {
     "data": {
      "text/plain": [
       "self.gatunek='domyślny gatunek' self.ilosc_nog=4 self.kolor='bezbarwny'"
      ]
     },
     "execution_count": 21,
     "metadata": {},
     "output_type": "execute_result"
    }
   ],
   "source": [
    "zwierzak_b = Zwierze()\n",
    "zwierzak_b"
   ]
  },
  {
   "cell_type": "code",
   "execution_count": 22,
   "metadata": {},
   "outputs": [],
   "source": [
    "zwierzak_a.kolor = \"rudy\"\n",
    "zwierzak_b.kolor = \"czarny\""
   ]
  },
  {
   "cell_type": "code",
   "execution_count": 23,
   "metadata": {},
   "outputs": [
    {
     "data": {
      "text/plain": [
       "self.gatunek='domyślny gatunek' self.ilosc_nog=4 self.kolor='rudy'"
      ]
     },
     "execution_count": 23,
     "metadata": {},
     "output_type": "execute_result"
    }
   ],
   "source": [
    "zwierzak_a"
   ]
  },
  {
   "cell_type": "code",
   "execution_count": 24,
   "metadata": {},
   "outputs": [
    {
     "data": {
      "text/plain": [
       "self.gatunek='domyślny gatunek' self.ilosc_nog=4 self.kolor='czarny'"
      ]
     },
     "execution_count": 24,
     "metadata": {},
     "output_type": "execute_result"
    }
   ],
   "source": [
    "zwierzak_b"
   ]
  },
  {
   "cell_type": "code",
   "execution_count": 25,
   "metadata": {},
   "outputs": [
    {
     "name": "stdout",
     "output_type": "stream",
     "text": [
      "Jestem domyślny gatunek i daje głos\n"
     ]
    }
   ],
   "source": [
    "zwierzak_a.daj_glos()"
   ]
  },
  {
   "cell_type": "code",
   "execution_count": 26,
   "metadata": {},
   "outputs": [
    {
     "name": "stdout",
     "output_type": "stream",
     "text": [
      "Jestem domyślny gatunek i daje głos\n"
     ]
    }
   ],
   "source": [
    "zwierzak_b.daj_glos()"
   ]
  },
  {
   "cell_type": "code",
   "execution_count": 27,
   "metadata": {},
   "outputs": [
    {
     "name": "stdout",
     "output_type": "stream",
     "text": [
      "Jestem domyślny gatunek i mam kolor rudy\n"
     ]
    }
   ],
   "source": [
    "zwierzak_a.daj_kolor()"
   ]
  },
  {
   "cell_type": "code",
   "execution_count": 28,
   "metadata": {},
   "outputs": [
    {
     "name": "stdout",
     "output_type": "stream",
     "text": [
      "Jestem domyślny gatunek i mam kolor czarny\n"
     ]
    }
   ],
   "source": [
    "zwierzak_b.daj_kolor()"
   ]
  },
  {
   "cell_type": "code",
   "execution_count": 30,
   "metadata": {},
   "outputs": [
    {
     "data": {
      "text/plain": [
       "40"
      ]
     },
     "execution_count": 30,
     "metadata": {},
     "output_type": "execute_result"
    }
   ],
   "source": [
    "zw_a = Zwierze()\n",
    "zw_a.liczba_nog_razy_x(10)"
   ]
  },
  {
   "cell_type": "code",
   "execution_count": 32,
   "metadata": {},
   "outputs": [],
   "source": [
    "class NoweZwierze:\n",
    "    gatunek = None\n",
    "    ilosc_nog = None\n",
    "    kolor = None\n",
    "\n",
    "    def __init__(self, gatunek, nogi=4, kolor=\"bezbarwny\"):\n",
    "        self.gatunek = gatunek\n",
    "        self.ilosc_nog = nogi\n",
    "        self.kolor = kolor\n",
    "\n",
    "    def __repr__(self):\n",
    "        return f\"{self.gatunek=} {self.ilosc_nog=} {self.kolor=}\"\n",
    "\n",
    "    def daj_glos(self):\n",
    "        print(f\"Jestem {self.gatunek} i daje głos\")\n",
    "\n",
    "    def daj_kolor(self):\n",
    "        print(f\"Jestem {self.gatunek} i mam kolor {self.kolor}\")\n",
    "\n",
    "    def liczba_nog_razy_x(self, x):\n",
    "        return self.ilosc_nog * x\n"
   ]
  },
  {
   "cell_type": "code",
   "execution_count": 33,
   "metadata": {},
   "outputs": [],
   "source": [
    "nowe_zw_a = NoweZwierze(\"pies\", nogi=4)\n",
    "nowe_zw_b = NoweZwierze(\"ptak\", 2, \"szary\")"
   ]
  },
  {
   "cell_type": "code",
   "execution_count": 34,
   "metadata": {},
   "outputs": [
    {
     "data": {
      "text/plain": [
       "self.gatunek='pies' self.ilosc_nog=4 self.kolor='bezbarwny'"
      ]
     },
     "execution_count": 34,
     "metadata": {},
     "output_type": "execute_result"
    }
   ],
   "source": [
    "nowe_zw_a"
   ]
  },
  {
   "cell_type": "code",
   "execution_count": 35,
   "metadata": {},
   "outputs": [
    {
     "data": {
      "text/plain": [
       "self.gatunek='ptak' self.ilosc_nog=2 self.kolor='szary'"
      ]
     },
     "execution_count": 35,
     "metadata": {},
     "output_type": "execute_result"
    }
   ],
   "source": [
    "nowe_zw_b"
   ]
  },
  {
   "cell_type": "code",
   "execution_count": 36,
   "metadata": {},
   "outputs": [
    {
     "name": "stdout",
     "output_type": "stream",
     "text": [
      "Jestem ptak i daje głos\n"
     ]
    }
   ],
   "source": [
    "nowe_zw_b.daj_glos()"
   ]
  },
  {
   "cell_type": "code",
   "execution_count": 65,
   "metadata": {},
   "outputs": [],
   "source": [
    "class Pies(NoweZwierze):\n",
    "    def __init__(self, kolor=\"bezbarwny\"):\n",
    "        super().__init__(gatunek=\"pies\", nogi=4, kolor=kolor)\n",
    "\n",
    "    def daj_glos(self):\n",
    "        print(f\"Jestem psem o kolorze {self.kolor} i szczekam\")\n",
    "\n",
    "\n"
   ]
  },
  {
   "cell_type": "code",
   "execution_count": 51,
   "metadata": {},
   "outputs": [
    {
     "data": {
      "text/plain": [
       "self.gatunek='pies' self.ilosc_nog=4 self.kolor='bury'"
      ]
     },
     "execution_count": 51,
     "metadata": {},
     "output_type": "execute_result"
    }
   ],
   "source": [
    "pies_a = Pies(\"bury\")\n",
    "pies_a\n"
   ]
  },
  {
   "cell_type": "code",
   "execution_count": 52,
   "metadata": {},
   "outputs": [
    {
     "data": {
      "text/plain": [
       "self.gatunek='pies' self.ilosc_nog=4 self.kolor='biały'"
      ]
     },
     "execution_count": 52,
     "metadata": {},
     "output_type": "execute_result"
    }
   ],
   "source": [
    "pies_b = Pies(\"biały\")\n",
    "pies_b\n"
   ]
  },
  {
   "cell_type": "code",
   "execution_count": 53,
   "metadata": {},
   "outputs": [
    {
     "name": "stdout",
     "output_type": "stream",
     "text": [
      "Jestem psem o kolorze bury i szczekam\n"
     ]
    }
   ],
   "source": [
    "pies_a.daj_glos()"
   ]
  },
  {
   "cell_type": "code",
   "execution_count": 54,
   "metadata": {},
   "outputs": [
    {
     "name": "stdout",
     "output_type": "stream",
     "text": [
      "Jestem pies i mam kolor biały\n"
     ]
    }
   ],
   "source": [
    "pies_b.daj_kolor()"
   ]
  },
  {
   "cell_type": "code",
   "execution_count": 55,
   "metadata": {},
   "outputs": [
    {
     "data": {
      "text/plain": [
       "8"
      ]
     },
     "execution_count": 55,
     "metadata": {},
     "output_type": "execute_result"
    }
   ],
   "source": [
    "pies_a.liczba_nog_razy_x(2)"
   ]
  },
  {
   "cell_type": "code",
   "execution_count": 74,
   "metadata": {},
   "outputs": [],
   "source": [
    "class Kot(NoweZwierze):\n",
    "    def __init__(self, kolor=\"bezbarwny\"):\n",
    "        super().__init__(gatunek=\"kot\", nogi=4, kolor=kolor)\n",
    "\n",
    "    def daj_glos(self):\n",
    "        print(f\"Jestem kotem o kolorze {self.kolor} i miauczę\")\n",
    "\n",
    "    def psuj(self, cos):\n",
    "        print(f\"Jestem kotem i popsułem {cos}\")\n",
    "\n",
    "    def __eq__(self, other):\n",
    "        return self.ilosc_nog == other.ilosc_nog\n",
    "    \n",
    "    def __lt__(self, other):\n",
    "        return self.kolor < other.kolor"
   ]
  },
  {
   "cell_type": "code",
   "execution_count": 57,
   "metadata": {},
   "outputs": [
    {
     "data": {
      "text/plain": [
       "self.gatunek='kot' self.ilosc_nog=4 self.kolor='czarny'"
      ]
     },
     "execution_count": 57,
     "metadata": {},
     "output_type": "execute_result"
    }
   ],
   "source": [
    "kot = Kot(\"czarny\")\n",
    "kot"
   ]
  },
  {
   "cell_type": "code",
   "execution_count": 58,
   "metadata": {},
   "outputs": [
    {
     "name": "stdout",
     "output_type": "stream",
     "text": [
      "Jestem kotem o kolorze czarny i miauczę\n"
     ]
    }
   ],
   "source": [
    "kot.daj_glos()"
   ]
  },
  {
   "cell_type": "code",
   "execution_count": 59,
   "metadata": {},
   "outputs": [
    {
     "data": {
      "text/plain": [
       "12"
      ]
     },
     "execution_count": 59,
     "metadata": {},
     "output_type": "execute_result"
    }
   ],
   "source": [
    "kot.liczba_nog_razy_x(3)"
   ]
  },
  {
   "cell_type": "code",
   "execution_count": 61,
   "metadata": {},
   "outputs": [
    {
     "data": {
      "text/plain": [
       "self.gatunek='kot' self.ilosc_nog=3 self.kolor='czarny'"
      ]
     },
     "execution_count": 61,
     "metadata": {},
     "output_type": "execute_result"
    }
   ],
   "source": [
    "kot.ilosc_nog = 3\n",
    "kot"
   ]
  },
  {
   "cell_type": "code",
   "execution_count": 62,
   "metadata": {},
   "outputs": [
    {
     "data": {
      "text/plain": [
       "self.gatunek='kot' self.ilosc_nog=4 self.kolor='bezbarwny'"
      ]
     },
     "execution_count": 62,
     "metadata": {},
     "output_type": "execute_result"
    }
   ],
   "source": [
    "kot_a = Kot()\n",
    "kot_a"
   ]
  },
  {
   "cell_type": "code",
   "execution_count": 63,
   "metadata": {},
   "outputs": [
    {
     "data": {
      "text/plain": [
       "4"
      ]
     },
     "execution_count": 63,
     "metadata": {},
     "output_type": "execute_result"
    }
   ],
   "source": [
    "kot_a.ilosc_nog"
   ]
  },
  {
   "cell_type": "code",
   "execution_count": 66,
   "metadata": {},
   "outputs": [],
   "source": [
    "pies = Pies()\n",
    "kot = Kot()"
   ]
  },
  {
   "cell_type": "code",
   "execution_count": 67,
   "metadata": {},
   "outputs": [
    {
     "ename": "AttributeError",
     "evalue": "'Pies' object has no attribute 'psuj'",
     "output_type": "error",
     "traceback": [
      "\u001b[1;31m---------------------------------------------------------------------------\u001b[0m",
      "\u001b[1;31mAttributeError\u001b[0m                            Traceback (most recent call last)",
      "Cell \u001b[1;32mIn[67], line 1\u001b[0m\n\u001b[1;32m----> 1\u001b[0m \u001b[43mpies\u001b[49m\u001b[38;5;241;43m.\u001b[39;49m\u001b[43mpsuj\u001b[49m(\u001b[38;5;124m\"\u001b[39m\u001b[38;5;124mradio\u001b[39m\u001b[38;5;124m\"\u001b[39m)\n",
      "\u001b[1;31mAttributeError\u001b[0m: 'Pies' object has no attribute 'psuj'"
     ]
    }
   ],
   "source": [
    "pies.psuj(\"radio\")"
   ]
  },
  {
   "cell_type": "code",
   "execution_count": 68,
   "metadata": {},
   "outputs": [
    {
     "name": "stdout",
     "output_type": "stream",
     "text": [
      "Jestem kotem i popsułem fotel\n"
     ]
    }
   ],
   "source": [
    "kot.psuj(\"fotel\")"
   ]
  },
  {
   "cell_type": "code",
   "execution_count": 79,
   "metadata": {},
   "outputs": [],
   "source": [
    "lista_kotow = [Kot(\"czarny\"), Kot(\"zielony\"), Kot(\"brązowy\"), Kot(\"niebieski\")]"
   ]
  },
  {
   "cell_type": "code",
   "execution_count": 80,
   "metadata": {},
   "outputs": [
    {
     "data": {
      "text/plain": [
       "[self.gatunek='kot' self.ilosc_nog=4 self.kolor='czarny',\n",
       " self.gatunek='kot' self.ilosc_nog=4 self.kolor='zielony',\n",
       " self.gatunek='kot' self.ilosc_nog=4 self.kolor='brązowy',\n",
       " self.gatunek='kot' self.ilosc_nog=4 self.kolor='niebieski']"
      ]
     },
     "execution_count": 80,
     "metadata": {},
     "output_type": "execute_result"
    }
   ],
   "source": [
    "lista_kotow"
   ]
  },
  {
   "cell_type": "code",
   "execution_count": 81,
   "metadata": {},
   "outputs": [
    {
     "name": "stdout",
     "output_type": "stream",
     "text": [
      "Jestem kotem o kolorze czarny i miauczę\n",
      "Jestem kotem o kolorze zielony i miauczę\n",
      "Jestem kotem o kolorze brązowy i miauczę\n",
      "Jestem kotem o kolorze niebieski i miauczę\n"
     ]
    }
   ],
   "source": [
    "for k in lista_kotow:\n",
    "    k.daj_glos()"
   ]
  },
  {
   "cell_type": "code",
   "execution_count": 82,
   "metadata": {},
   "outputs": [
    {
     "data": {
      "text/plain": [
       "[self.gatunek='kot' self.ilosc_nog=4 self.kolor='brązowy',\n",
       " self.gatunek='kot' self.ilosc_nog=4 self.kolor='czarny',\n",
       " self.gatunek='kot' self.ilosc_nog=4 self.kolor='niebieski',\n",
       " self.gatunek='kot' self.ilosc_nog=4 self.kolor='zielony']"
      ]
     },
     "execution_count": 82,
     "metadata": {},
     "output_type": "execute_result"
    }
   ],
   "source": [
    "sorted(lista_kotow)"
   ]
  },
  {
   "cell_type": "code",
   "execution_count": 83,
   "metadata": {},
   "outputs": [
    {
     "data": {
      "text/plain": [
       "True"
      ]
     },
     "execution_count": 83,
     "metadata": {},
     "output_type": "execute_result"
    }
   ],
   "source": [
    "lista_kotow[0] == lista_kotow[3]"
   ]
  },
  {
   "cell_type": "code",
   "execution_count": 84,
   "metadata": {},
   "outputs": [],
   "source": [
    "lista_kotow[3].ilosc_nog = 5"
   ]
  },
  {
   "cell_type": "code",
   "execution_count": 85,
   "metadata": {},
   "outputs": [
    {
     "data": {
      "text/plain": [
       "False"
      ]
     },
     "execution_count": 85,
     "metadata": {},
     "output_type": "execute_result"
    }
   ],
   "source": [
    "lista_kotow[0] == lista_kotow[3]"
   ]
  },
  {
   "cell_type": "code",
   "execution_count": null,
   "metadata": {},
   "outputs": [],
   "source": [
    "class BazaDanych:\n",
    "    def __init__(self, db_user, db_pass, db_host):\n",
    "        self.db_user = db_user\n",
    "        self.db_pass = db_pass\n",
    "        self.db_host = db_host\n",
    "\n",
    "        self.connection_str = f\"{self.db_host}\"\n",
    "        self.czy_polaczone = False\n",
    "\n",
    "    def polacz(self):\n",
    "        if self.czy_polaczone:\n",
    "            return\n",
    "\n",
    "        db_engine = se.engine(....)\n",
    "        self.db_conn =db_engine.connect()\n",
    "        self.czy_polaczone = True\n",
    "\n",
    "\n",
    "    def do_query(self, sql):\n",
    "        return self.db_conn.execute(text(sql))\n",
    "    \n",
    "    \n",
    "    def close(self):\n",
    "        self.db_conn.close()"
   ]
  },
  {
   "cell_type": "code",
   "execution_count": null,
   "metadata": {},
   "outputs": [],
   "source": [
    "db = BazaDanych(\"postgresql\")\n",
    "db.do_query(\"select * from tabelka\")\n",
    "db.close()"
   ]
  },
  {
   "cell_type": "code",
   "execution_count": null,
   "metadata": {},
   "outputs": [],
   "source": [
    "dbs = BazaDanych(\"sqlite\")\n",
    "dbs.do_query(\"select * from tabelka\")\n",
    "dbs.close()\n"
   ]
  },
  {
   "cell_type": "code",
   "execution_count": null,
   "metadata": {},
   "outputs": [],
   "source": [
    "wyniki = db.do_query(\"select...\")\n",
    "dbs.do_query(\"insert\", wyniki)"
   ]
  }
 ],
 "metadata": {
  "kernelspec": {
   "display_name": ".venv",
   "language": "python",
   "name": "python3"
  },
  "language_info": {
   "codemirror_mode": {
    "name": "ipython",
    "version": 3
   },
   "file_extension": ".py",
   "mimetype": "text/x-python",
   "name": "python",
   "nbconvert_exporter": "python",
   "pygments_lexer": "ipython3",
   "version": "3.10.7"
  }
 },
 "nbformat": 4,
 "nbformat_minor": 2
}
